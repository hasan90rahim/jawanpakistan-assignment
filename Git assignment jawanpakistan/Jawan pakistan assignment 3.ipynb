{
 "cells": [
  {
   "cell_type": "markdown",
   "id": "63f0ad76",
   "metadata": {},
   "source": [
    "Q6:: WRITE A PYTHON PROGRAM WHICH TAKE TWO INPUT FROM USER AND PRINT THEM ADDITION"
   ]
  },
  {
   "cell_type": "code",
   "execution_count": 2,
   "id": "90b4ebe1",
   "metadata": {},
   "outputs": [
    {
     "name": "stdout",
     "output_type": "stream",
     "text": [
      "ENTER THE FIRST NUMBER::2\n",
      "ENTER THE SECOUND NUMBER::5\n",
      "THE ANSWER IS : 7\n"
     ]
    }
   ],
   "source": [
    "A=int(input(\"ENTER THE FIRST NUMBER::\"))\n",
    "B=int(input(\"ENTER THE SECOUND NUMBER::\"))\n",
    "c=A+B\n",
    "print(\"THE ANSWER IS :\",c)"
   ]
  },
  {
   "cell_type": "markdown",
   "id": "f29e75c1",
   "metadata": {},
   "source": [
    "Q 8 :: WRITE A PROGRAM WHICH TAKE INPUT FROM USER AND IDENTIFY THAT THE GIVEN NUMBER IS EVEN OR ODD"
   ]
  },
  {
   "cell_type": "code",
   "execution_count": 6,
   "id": "f3717f93",
   "metadata": {},
   "outputs": [
    {
     "name": "stdout",
     "output_type": "stream",
     "text": [
      "ENTER THE NUMBER::4\n",
      "EVEN\n"
     ]
    }
   ],
   "source": [
    "w=int(input(\"ENTER THE NUMBER::\"))\n",
    "if w%2==0:\n",
    "    print(\"EVEN\")\n",
    "else:\n",
    "    print(\"odd\")"
   ]
  },
  {
   "cell_type": "markdown",
   "id": "85f6fe95",
   "metadata": {},
   "source": [
    "Q 9 :: WRITE A PROGRAM WHICH PRINT THE LENGHT OF A LIST"
   ]
  },
  {
   "cell_type": "code",
   "execution_count": 7,
   "id": "300925f6",
   "metadata": {},
   "outputs": [
    {
     "name": "stdout",
     "output_type": "stream",
     "text": [
      "10\n"
     ]
    }
   ],
   "source": [
    "a=[2,3,4,5,6,7,8,9,1,11]\n",
    "print(len(a))"
   ]
  },
  {
   "cell_type": "markdown",
   "id": "9aad3e07",
   "metadata": {},
   "source": [
    "Q 11 :: WRITE A PROGRAM TO GET THE LARGEST NUMBER FROM A NUMERIC LIST"
   ]
  },
  {
   "cell_type": "code",
   "execution_count": 9,
   "id": "3166cc24",
   "metadata": {},
   "outputs": [
    {
     "name": "stdout",
     "output_type": "stream",
     "text": [
      "66\n"
     ]
    }
   ],
   "source": [
    "s=[33,22,11,44,66,7,8,9]\n",
    "print(max(s))"
   ]
  },
  {
   "cell_type": "markdown",
   "id": "dac1f325",
   "metadata": {},
   "source": [
    "Q 12 :: TAKE A LIST SAY FOR EXAMPLE THIS ONES A=[1,1,2,3,5,8,13,21,34,55,89]\n",
    "WRITE A PROGRAM THAT PRINTS OUT ALL THE ELEMENTS OF THE LIST THAT ARE LESS THAN 5"
   ]
  },
  {
   "cell_type": "code",
   "execution_count": 49,
   "id": "6105b344",
   "metadata": {},
   "outputs": [
    {
     "name": "stdout",
     "output_type": "stream",
     "text": [
      "less than 5 value is [1]\n",
      "less than 5 value is [1, 1]\n",
      "less than 5 value is [1, 1, 2]\n",
      "less than 5 value is [1, 1, 2, 3]\n",
      "greaer than five value is  [5]\n",
      "greaer than five value is  [5, 8]\n",
      "greaer than five value is  [5, 8, 13]\n",
      "greaer than five value is  [5, 8, 13, 21]\n",
      "greaer than five value is  [5, 8, 13, 21, 34]\n",
      "greaer than five value is  [5, 8, 13, 21, 34, 55]\n",
      "greaer than five value is  [5, 8, 13, 21, 34, 55, 89]\n"
     ]
    }
   ],
   "source": [
    "a=[1,1,2,3,5,8,13,21,34,55,89]\n",
    "\n",
    "b=[]\n",
    "odd=[]\n",
    "for x in a:\n",
    "    if x<5:\n",
    "        b.append(x)\n",
    "        print(\"less than 5 value is\",b)\n",
    "    else:\n",
    "        odd.append(x)\n",
    "        print(\"greaer than five value is \",odd)\n",
    "print(\"less than 5 value is\",b)\n"
   ]
  },
  {
   "cell_type": "markdown",
   "id": "40814fe1",
   "metadata": {},
   "source": [
    "Q 10:: WRITE A PROGRAM TO SUM ALL THE NUMBERIC ITEM IN LIST"
   ]
  },
  {
   "cell_type": "code",
   "execution_count": 13,
   "id": "61cec83b",
   "metadata": {},
   "outputs": [
    {
     "name": "stdout",
     "output_type": "stream",
     "text": [
      "35\n"
     ]
    }
   ],
   "source": [
    "s=[2,3,4,5,6,7,8]\n",
    "print(sum(s))"
   ]
  },
  {
   "cell_type": "markdown",
   "id": "aa8d1932",
   "metadata": {},
   "source": [
    "Q 7:: WRITE A PROGRAM WHICH TAKE 5 INPUT FROM USER FOR DIFFERENT SUBJECT S MARKS , TOTAL IT AND GENERATE MARKSHEET USING GRADE \n",
    "        "
   ]
  },
  {
   "cell_type": "code",
   "execution_count": 14,
   "id": "66e5f6f5",
   "metadata": {},
   "outputs": [
    {
     "name": "stdout",
     "output_type": "stream",
     "text": [
      " ASSIGNMENT NUMBER 2\n",
      "MARKSHEET ASSIGNMENT\n",
      "1.MATH \n",
      "2.ISLAMIAT\n",
      "3.ENGLISH\n",
      "THE PERCENTAGE OF STUDENT IS 70.33333333333334\n",
      "GRADE A\n"
     ]
    }
   ],
   "source": [
    "print(\" ASSIGNMENT NUMBER 2\")\n",
    "print(\"MARKSHEET ASSIGNMENT\");\n",
    "print(\"1.MATH \\n2.ISLAMIAT\\n3.ENGLISH\");\n",
    "islamiat=67\n",
    "physics=75\n",
    "chemistry=69\n",
    "Total_marks=300\n",
    "# WE MADE A FORMULA TO GET PERCENTAGE\n",
    "obtain=chemistry+physics+islamiat\n",
    "percentage=(obtain/Total_marks)*100\n",
    "print(f\"THE PERCENTAGE OF STUDENT IS {percentage}\")\n",
    "# TO GET THE GRADE OF THE STUDENT\n",
    "if percentage>80:\n",
    "    print(\"GRADE A+\")\n",
    "elif percentage>70:\n",
    "    print(\"GRADE A\")\n",
    "else:\n",
    "    print(\"GRADE B\")\n",
    "\n",
    "\n",
    "\n"
   ]
  },
  {
   "cell_type": "markdown",
   "id": "0bfa5777",
   "metadata": {},
   "source": [
    "Q5:: WRITE A PROGRAM WHICH ACCEPT THE USER FIRST AND LAST NAME AND THEM PRINT THEM IN REVERSE ORDER WITH A SPCAE BETWEEN THEM"
   ]
  },
  {
   "cell_type": "code",
   "execution_count": null,
   "id": "65c9bed1",
   "metadata": {},
   "outputs": [],
   "source": [
    "a=input(\"ENTER THE INPUT BY USER::\")\n"
   ]
  },
  {
   "cell_type": "markdown",
   "id": "d2bd3b17",
   "metadata": {},
   "source": [
    "Q3:::WRITE A PROGRAM TO DISPLAY THE CURRENT DATE AND TIME"
   ]
  },
  {
   "cell_type": "code",
   "execution_count": 17,
   "id": "dc403ba7",
   "metadata": {},
   "outputs": [
    {
     "name": "stdout",
     "output_type": "stream",
     "text": [
      "The current date and time is::\n",
      "21-10-24 00:45:53\n"
     ]
    }
   ],
   "source": [
    "import datetime\n",
    "now=datetime.datetime.now()\n",
    "print(\"The current date and time is::\")\n",
    "print(now.strftime(\"%y-%m-%d %H:%M:%S\"))\n",
    "# strftime is a inbuid function we use\n",
    "# (%y =year , %m = month ,%d =days , %H = hours ,%M = Month ,%S =second"
   ]
  },
  {
   "cell_type": "code",
   "execution_count": null,
   "id": "40dbe86f",
   "metadata": {},
   "outputs": [],
   "source": []
  },
  {
   "cell_type": "code",
   "execution_count": 34,
   "id": "930a3e53",
   "metadata": {},
   "outputs": [
    {
     "name": "stdout",
     "output_type": "stream",
     "text": [
      "::FIRST METHOD::\n",
      "Enter The First Name::HASAN\n",
      "Enter The Last Name::RAHIM\n"
     ]
    },
    {
     "data": {
      "text/plain": [
       "'RAHIM HASAN'"
      ]
     },
     "execution_count": 34,
     "metadata": {},
     "output_type": "execute_result"
    }
   ],
   "source": [
    "print(\"::FIRST METHOD::\")\n",
    "####################################\n",
    "def hello(a,b):\n",
    "    text=y+' '+d\n",
    "    return text\n",
    "\n",
    "d= input(\"Enter The First Name::\")\n",
    "y=input(\"Enter The Last Name::\")\n",
    "hello(a,b) # function call "
   ]
  },
  {
   "cell_type": "markdown",
   "id": "7550327d",
   "metadata": {},
   "source": [
    "Q:4:: WRITE A PYTHON PROGRAM WHICH ACCEPTS THE RADIUS OF A CIRCLE FROM THE USER AND COMPUTE THE AREA"
   ]
  },
  {
   "cell_type": "code",
   "execution_count": 29,
   "id": "3b086339",
   "metadata": {},
   "outputs": [
    {
     "name": "stdout",
     "output_type": "stream",
     "text": [
      "ENTER THE NUMBER::5\n",
      "THE VALUE OF THE AREA IS 157.1\n"
     ]
    }
   ],
   "source": [
    "# formula(area = 2*3.142*r(square)\n",
    "radius=int(input(\"ENTER THE NUMBER::\"))\n",
    "r=radius**2\n",
    "formula=2*3.142*r\n",
    "print(f\"THE VALUE OF THE AREA IS {formula}\")\n"
   ]
  },
  {
   "cell_type": "markdown",
   "id": "b2c3f920",
   "metadata": {},
   "source": [
    "Q2:: WRITE A PROGRAM TO GET THE PYTHON VERSION YOU ARE USING"
   ]
  },
  {
   "cell_type": "code",
   "execution_count": 37,
   "id": "e8ebb1e3",
   "metadata": {},
   "outputs": [
    {
     "name": "stdout",
     "output_type": "stream",
     "text": [
      "THE PYTHON VERSION IS 3.8.11\n"
     ]
    }
   ],
   "source": [
    "from platform import python_version\n",
    "print(\"THE PYTHON VERSION IS\",python_version())"
   ]
  },
  {
   "cell_type": "markdown",
   "id": "0a70964b",
   "metadata": {},
   "source": [
    "Q1::write a program of poem"
   ]
  },
  {
   "cell_type": "code",
   "execution_count": 41,
   "id": "760ab343",
   "metadata": {},
   "outputs": [
    {
     "name": "stdout",
     "output_type": "stream",
     "text": [
      "Twinkle, twinkle, little star, \n",
      "\tHow I wonder what you are! \n",
      "\t\tUp above the world so high, \n",
      "\t\tLike a diamond in the sky.\n",
      "Twinkle, twinkle, little star, \n",
      "\tHow I wonder what you are!\n"
     ]
    }
   ],
   "source": [
    "print(\"Twinkle, twinkle, little star, \\n\\tHow I wonder what you are! \\n\\t\\tUp above the world so high, \\n\\t\\tLike a diamond in the sky.\\nTwinkle, twinkle, little star, \\n\\tHow I wonder what you are!\")\n",
    "# here /t is Tab or /n new line"
   ]
  },
  {
   "cell_type": "code",
   "execution_count": null,
   "id": "6ef02294",
   "metadata": {},
   "outputs": [],
   "source": []
  },
  {
   "cell_type": "code",
   "execution_count": null,
   "id": "751745fd",
   "metadata": {},
   "outputs": [],
   "source": []
  }
 ],
 "metadata": {
  "kernelspec": {
   "display_name": "Python 3",
   "language": "python",
   "name": "python3"
  },
  "language_info": {
   "codemirror_mode": {
    "name": "ipython",
    "version": 3
   },
   "file_extension": ".py",
   "mimetype": "text/x-python",
   "name": "python",
   "nbconvert_exporter": "python",
   "pygments_lexer": "ipython3",
   "version": "3.8.11"
  }
 },
 "nbformat": 4,
 "nbformat_minor": 5
}
